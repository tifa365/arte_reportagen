{
 "cells": [
  {
   "cell_type": "code",
   "execution_count": 24,
   "metadata": {},
   "outputs": [],
   "source": [
    "from bs4 import BeautifulSoup\n",
    "import requests\n",
    "from collections import defaultdict\n",
    "import pandas as pd\n",
    "\n",
    "url = 'https://www.youtube.com/playlist?list=PLfdMKJMGPPtw460zOmLX3v7qj_9ADmSrQ'\n",
    "page = requests.get(url)\n",
    "soup = BeautifulSoup(page.text, 'lxml')\n",
    "selected_video = soup.select('tr.pl-video')\n",
    "selected_time = soup.select('div.timestamp')\n",
    "dokumentationen = defaultdict(list)\n",
    "\n",
    "for i in selected_video:\n",
    "    dokumentationen[\"Titel\"].append(i['data-title'])\n",
    "    dokumentationen[\"Link\"].append('https://www.youtube.com' + i.a['href'])\n",
    "    \n",
    "for i in selected_time:\n",
    "    dokumentationen[\"Laufzeit\"].append(i.text)     \n",
    "    \n",
    "dokus = pd.DataFrame.from_dict(dokumentationen)\n",
    "dokus.to_csv('dokus_csv.csv')\n",
    "dokus.to_excel('dokus_excel.xlsx') "
   ]
  }
 ],
 "metadata": {
  "kernelspec": {
   "display_name": "Python 3",
   "language": "python",
   "name": "python3"
  },
  "language_info": {
   "codemirror_mode": {
    "name": "ipython",
    "version": 3
   },
   "file_extension": ".py",
   "mimetype": "text/x-python",
   "name": "python",
   "nbconvert_exporter": "python",
   "pygments_lexer": "ipython3",
   "version": "3.7.6"
  }
 },
 "nbformat": 4,
 "nbformat_minor": 4
}
